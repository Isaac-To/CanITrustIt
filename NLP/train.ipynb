{
 "cells": [
  {
   "cell_type": "code",
   "execution_count": 1,
   "metadata": {},
   "outputs": [
    {
     "name": "stderr",
     "output_type": "stream",
     "text": [
      "2024-09-19 16:51:55.180637: I tensorflow/core/util/port.cc:153] oneDNN custom operations are on. You may see slightly different numerical results due to floating-point round-off errors from different computation orders. To turn them off, set the environment variable `TF_ENABLE_ONEDNN_OPTS=0`.\n",
      "2024-09-19 16:51:55.249462: E external/local_xla/xla/stream_executor/cuda/cuda_fft.cc:485] Unable to register cuFFT factory: Attempting to register factory for plugin cuFFT when one has already been registered\n",
      "2024-09-19 16:51:55.267057: E external/local_xla/xla/stream_executor/cuda/cuda_dnn.cc:8454] Unable to register cuDNN factory: Attempting to register factory for plugin cuDNN when one has already been registered\n",
      "2024-09-19 16:51:55.273483: E external/local_xla/xla/stream_executor/cuda/cuda_blas.cc:1452] Unable to register cuBLAS factory: Attempting to register factory for plugin cuBLAS when one has already been registered\n",
      "2024-09-19 16:51:55.343817: I tensorflow/core/platform/cpu_feature_guard.cc:210] This TensorFlow binary is optimized to use available CPU instructions in performance-critical operations.\n",
      "To enable the following instructions: SSE4.1 SSE4.2 AVX AVX2 AVX512F AVX512_VNNI FMA, in other operations, rebuild TensorFlow with the appropriate compiler flags.\n",
      "WARNING: All log messages before absl::InitializeLog() is called are written to STDERR\n",
      "I0000 00:00:1726789917.033305    5125 cuda_executor.cc:1015] successful NUMA node read from SysFS had negative value (-1), but there must be at least one NUMA node, so returning NUMA node zero. See more at https://github.com/torvalds/linux/blob/v6.0/Documentation/ABI/testing/sysfs-bus-pci#L344-L355\n",
      "I0000 00:00:1726789917.192926    5125 cuda_executor.cc:1015] successful NUMA node read from SysFS had negative value (-1), but there must be at least one NUMA node, so returning NUMA node zero. See more at https://github.com/torvalds/linux/blob/v6.0/Documentation/ABI/testing/sysfs-bus-pci#L344-L355\n",
      "I0000 00:00:1726789917.193119    5125 cuda_executor.cc:1015] successful NUMA node read from SysFS had negative value (-1), but there must be at least one NUMA node, so returning NUMA node zero. See more at https://github.com/torvalds/linux/blob/v6.0/Documentation/ABI/testing/sysfs-bus-pci#L344-L355\n"
     ]
    },
    {
     "data": {
      "text/plain": [
       "[PhysicalDevice(name='/physical_device:GPU:0', device_type='GPU')]"
      ]
     },
     "execution_count": 1,
     "metadata": {},
     "output_type": "execute_result"
    }
   ],
   "source": [
    "import numpy as np\n",
    "import pandas as pd\n",
    "import matplotlib.pyplot as plt\n",
    "\n",
    "import tensorflow as tf\n",
    "import tf_keras\n",
    "\n",
    "# Optimizations\n",
    "tf.config.optimizer.set_jit(True)\n",
    "\n",
    "tf.config.list_physical_devices('GPU')"
   ]
  },
  {
   "cell_type": "code",
   "execution_count": 9,
   "metadata": {},
   "outputs": [],
   "source": [
    "# 1 is FALSE 0 is TRUE\n",
    "# https://www.kaggle.com/datasets/saurabhshahane/fake-news-classification\n",
    "df = pd.read_csv(\"./datasets/WELFake_Dataset.csv\", usecols=['title', 'text', 'label'])"
   ]
  },
  {
   "cell_type": "code",
   "execution_count": 11,
   "metadata": {},
   "outputs": [
    {
     "data": {
      "text/plain": [
       "(                                               title  \\\n",
       " 0  As U.S. budget fight looms, Republicans flip t...   \n",
       " 1  U.S. military to accept transgender recruits o...   \n",
       " 2  Senior U.S. Republican senator: 'Let Mr. Muell...   \n",
       " 3  FBI Russia probe helped by Australian diplomat...   \n",
       " 4  Trump wants Postal Service to charge 'much mor...   \n",
       " \n",
       "                                                 text  label  \n",
       " 0  WASHINGTON (Reuters) - The head of a conservat...      0  \n",
       " 1  WASHINGTON (Reuters) - Transgender people will...      0  \n",
       " 2  WASHINGTON (Reuters) - The special counsel inv...      0  \n",
       " 3  WASHINGTON (Reuters) - Trump campaign adviser ...      0  \n",
       " 4  SEATTLE/WASHINGTON (Reuters) - President Donal...      0  ,\n",
       "                                                title  \\\n",
       " 0   Donald Trump Sends Out Embarrassing New Year’...   \n",
       " 1   Drunk Bragging Trump Staffer Started Russian ...   \n",
       " 2   Sheriff David Clarke Becomes An Internet Joke...   \n",
       " 3   Trump Is So Obsessed He Even Has Obama’s Name...   \n",
       " 4   Pope Francis Just Called Out Donald Trump Dur...   \n",
       " \n",
       "                                                 text  label  \n",
       " 0  Donald Trump just couldn t wish all Americans ...      1  \n",
       " 1  House Intelligence Committee Chairman Devin Nu...      1  \n",
       " 2  On Friday, it was revealed that former Milwauk...      1  \n",
       " 3  On Christmas day, Donald Trump announced that ...      1  \n",
       " 4  Pope Francis used his annual Christmas Day mes...      1  )"
      ]
     },
     "execution_count": 11,
     "metadata": {},
     "output_type": "execute_result"
    }
   ],
   "source": [
    "# https://www.kaggle.com/datasets/bhavikjikadara/fake-news-detection\n",
    "df_tmp_true = pd.read_csv(\"./datasets/bhavik/true.csv\", usecols=['title', 'text'])\n",
    "df_tmp_true['label'] = 0\n",
    "df_tmp_false = pd.read_csv(\"./datasets/bhavik/fake.csv\", usecols=['title', 'text'])\n",
    "df_tmp_false['label'] = 1\n",
    "df = pd.concat([df, df_tmp_false, df_tmp_true])\n",
    "df_tmp_true.head(), df_tmp_false.head()"
   ]
  },
  {
   "cell_type": "code",
   "execution_count": 13,
   "metadata": {},
   "outputs": [
    {
     "data": {
      "text/html": [
       "<div>\n",
       "<style scoped>\n",
       "    .dataframe tbody tr th:only-of-type {\n",
       "        vertical-align: middle;\n",
       "    }\n",
       "\n",
       "    .dataframe tbody tr th {\n",
       "        vertical-align: top;\n",
       "    }\n",
       "\n",
       "    .dataframe thead th {\n",
       "        text-align: right;\n",
       "    }\n",
       "</style>\n",
       "<table border=\"1\" class=\"dataframe\">\n",
       "  <thead>\n",
       "    <tr style=\"text-align: right;\">\n",
       "      <th></th>\n",
       "      <th>title</th>\n",
       "      <th>text</th>\n",
       "      <th>label</th>\n",
       "    </tr>\n",
       "  </thead>\n",
       "  <tbody>\n",
       "    <tr>\n",
       "      <th>0</th>\n",
       "      <td>Muslims BUSTED: They Stole Millions In Gov’t B...</td>\n",
       "      <td>Print They should pay all the back all the mon...</td>\n",
       "      <td>1</td>\n",
       "    </tr>\n",
       "    <tr>\n",
       "      <th>1</th>\n",
       "      <td>Re: Why Did Attorney General Loretta Lynch Ple...</td>\n",
       "      <td>Why Did Attorney General Loretta Lynch Plead T...</td>\n",
       "      <td>1</td>\n",
       "    </tr>\n",
       "    <tr>\n",
       "      <th>2</th>\n",
       "      <td>BREAKING: Weiner Cooperating With FBI On Hilla...</td>\n",
       "      <td>Red State : \\nFox News Sunday reported this mo...</td>\n",
       "      <td>1</td>\n",
       "    </tr>\n",
       "    <tr>\n",
       "      <th>3</th>\n",
       "      <td>PIN DROP SPEECH BY FATHER OF DAUGHTER Kidnappe...</td>\n",
       "      <td>Email Kayla Mueller was a prisoner and torture...</td>\n",
       "      <td>1</td>\n",
       "    </tr>\n",
       "    <tr>\n",
       "      <th>4</th>\n",
       "      <td>FANTASTIC! TRUMP'S 7 POINT PLAN To Reform Heal...</td>\n",
       "      <td>Email HEALTHCARE REFORM TO MAKE AMERICA GREAT ...</td>\n",
       "      <td>1</td>\n",
       "    </tr>\n",
       "  </tbody>\n",
       "</table>\n",
       "</div>"
      ],
      "text/plain": [
       "                                               title  \\\n",
       "0  Muslims BUSTED: They Stole Millions In Gov’t B...   \n",
       "1  Re: Why Did Attorney General Loretta Lynch Ple...   \n",
       "2  BREAKING: Weiner Cooperating With FBI On Hilla...   \n",
       "3  PIN DROP SPEECH BY FATHER OF DAUGHTER Kidnappe...   \n",
       "4  FANTASTIC! TRUMP'S 7 POINT PLAN To Reform Heal...   \n",
       "\n",
       "                                                text  label  \n",
       "0  Print They should pay all the back all the mon...      1  \n",
       "1  Why Did Attorney General Loretta Lynch Plead T...      1  \n",
       "2  Red State : \\nFox News Sunday reported this mo...      1  \n",
       "3  Email Kayla Mueller was a prisoner and torture...      1  \n",
       "4  Email HEALTHCARE REFORM TO MAKE AMERICA GREAT ...      1  "
      ]
     },
     "execution_count": 13,
     "metadata": {},
     "output_type": "execute_result"
    }
   ],
   "source": [
    "# https://www.kaggle.com/datasets/mrisdal/fake-news\n",
    "df_tmp_false = pd.read_csv(\"./datasets/mrisdal/fake.csv\", usecols=['title', 'text'])\n",
    "df_tmp_false['label'] = 1\n",
    "df = pd.concat([df, df_tmp_false])\n",
    "df_tmp_false.head()"
   ]
  },
  {
   "cell_type": "code",
   "execution_count": 14,
   "metadata": {},
   "outputs": [
    {
     "name": "stderr",
     "output_type": "stream",
     "text": [
      "/tmp/ipykernel_101156/2105504887.py:3: FutureWarning: Downcasting behavior in `replace` is deprecated and will be removed in a future version. To retain the old behavior, explicitly call `result.infer_objects(copy=False)`. To opt-in to the future behavior, set `pd.set_option('future.no_silent_downcasting', True)`\n",
      "  df_tmp['label'] = df_tmp['label'].replace([\"REAL\", \"FAKE\"], [0, 1])\n"
     ]
    },
    {
     "data": {
      "text/html": [
       "<div>\n",
       "<style scoped>\n",
       "    .dataframe tbody tr th:only-of-type {\n",
       "        vertical-align: middle;\n",
       "    }\n",
       "\n",
       "    .dataframe tbody tr th {\n",
       "        vertical-align: top;\n",
       "    }\n",
       "\n",
       "    .dataframe thead th {\n",
       "        text-align: right;\n",
       "    }\n",
       "</style>\n",
       "<table border=\"1\" class=\"dataframe\">\n",
       "  <thead>\n",
       "    <tr style=\"text-align: right;\">\n",
       "      <th></th>\n",
       "      <th>title</th>\n",
       "      <th>text</th>\n",
       "      <th>label</th>\n",
       "    </tr>\n",
       "  </thead>\n",
       "  <tbody>\n",
       "    <tr>\n",
       "      <th>0</th>\n",
       "      <td>You Can Smell Hillary’s Fear</td>\n",
       "      <td>Daniel Greenfield, a Shillman Journalism Fello...</td>\n",
       "      <td>1</td>\n",
       "    </tr>\n",
       "    <tr>\n",
       "      <th>1</th>\n",
       "      <td>Watch The Exact Moment Paul Ryan Committed Pol...</td>\n",
       "      <td>Google Pinterest Digg Linkedin Reddit Stumbleu...</td>\n",
       "      <td>1</td>\n",
       "    </tr>\n",
       "    <tr>\n",
       "      <th>2</th>\n",
       "      <td>Kerry to go to Paris in gesture of sympathy</td>\n",
       "      <td>U.S. Secretary of State John F. Kerry said Mon...</td>\n",
       "      <td>0</td>\n",
       "    </tr>\n",
       "    <tr>\n",
       "      <th>3</th>\n",
       "      <td>Bernie supporters on Twitter erupt in anger ag...</td>\n",
       "      <td>— Kaydee King (@KaydeeKing) November 9, 2016 T...</td>\n",
       "      <td>1</td>\n",
       "    </tr>\n",
       "    <tr>\n",
       "      <th>4</th>\n",
       "      <td>The Battle of New York: Why This Primary Matters</td>\n",
       "      <td>It's primary day in New York and front-runners...</td>\n",
       "      <td>0</td>\n",
       "    </tr>\n",
       "  </tbody>\n",
       "</table>\n",
       "</div>"
      ],
      "text/plain": [
       "                                               title  \\\n",
       "0                       You Can Smell Hillary’s Fear   \n",
       "1  Watch The Exact Moment Paul Ryan Committed Pol...   \n",
       "2        Kerry to go to Paris in gesture of sympathy   \n",
       "3  Bernie supporters on Twitter erupt in anger ag...   \n",
       "4   The Battle of New York: Why This Primary Matters   \n",
       "\n",
       "                                                text  label  \n",
       "0  Daniel Greenfield, a Shillman Journalism Fello...      1  \n",
       "1  Google Pinterest Digg Linkedin Reddit Stumbleu...      1  \n",
       "2  U.S. Secretary of State John F. Kerry said Mon...      0  \n",
       "3  — Kaydee King (@KaydeeKing) November 9, 2016 T...      1  \n",
       "4  It's primary day in New York and front-runners...      0  "
      ]
     },
     "execution_count": 14,
     "metadata": {},
     "output_type": "execute_result"
    }
   ],
   "source": [
    "# https://www.kaggle.com/datasets/hassanamin/textdb3\n",
    "df_tmp = pd.read_csv(\"./datasets/hassanamin.csv\", usecols=['title', 'text', 'label'])\n",
    "df_tmp['label'] = df_tmp['label'].replace([\"REAL\", \"FAKE\"], [0, 1])\n",
    "df = pd.concat([df, df_tmp])\n",
    "df_tmp.head()"
   ]
  },
  {
   "cell_type": "code",
   "execution_count": 15,
   "metadata": {},
   "outputs": [],
   "source": [
    "# Preprocess imported data\n",
    "df = df.dropna()\n",
    "df[\"merged\"] = \"[TITLE]\" + df[\"title\"] + \"[TEXT]\" + df[\"text\"]\n",
    "# Remove unused columns\n",
    "del df[\"title\"] \n",
    "del df[\"text\"]"
   ]
  },
  {
   "cell_type": "code",
   "execution_count": 16,
   "metadata": {},
   "outputs": [
    {
     "name": "stderr",
     "output_type": "stream",
     "text": [
      "/home/iato/Code/CanITrustIt/.conda/lib/python3.11/site-packages/numpy/core/fromnumeric.py:59: FutureWarning: 'DataFrame.swapaxes' is deprecated and will be removed in a future version. Please use 'DataFrame.transpose' instead.\n",
      "  return bound(*args, **kwds)\n"
     ]
    },
    {
     "data": {
      "text/plain": [
       "(121538, 6752, 6753)"
      ]
     },
     "execution_count": 16,
     "metadata": {},
     "output_type": "execute_result"
    }
   ],
   "source": [
    "train, val, test = np.split(df.sample(frac=1), [int(0.9*len(df)), int(0.95*len(df))])\n",
    "len(train), len(val), len(test)"
   ]
  },
  {
   "cell_type": "code",
   "execution_count": 17,
   "metadata": {},
   "outputs": [],
   "source": [
    "def df_to_dataset(dataframe, shuffle=True, batch_size=64):\n",
    "    df = dataframe.copy()\n",
    "    labels = df.pop(\"label\")\n",
    "    df = df[\"merged\"]\n",
    "    ds = tf.data.Dataset.from_tensor_slices((df, labels))\n",
    "    if shuffle:\n",
    "        ds = ds.shuffle(buffer_size=len(dataframe))\n",
    "    ds = ds.batch(batch_size)\n",
    "    ds = ds.prefetch(tf.data.AUTOTUNE)\n",
    "    return ds"
   ]
  },
  {
   "cell_type": "code",
   "execution_count": 18,
   "metadata": {},
   "outputs": [
    {
     "name": "stderr",
     "output_type": "stream",
     "text": [
      "I0000 00:00:1726738647.412021  101156 cuda_executor.cc:1015] successful NUMA node read from SysFS had negative value (-1), but there must be at least one NUMA node, so returning NUMA node zero. See more at https://github.com/torvalds/linux/blob/v6.0/Documentation/ABI/testing/sysfs-bus-pci#L344-L355\n",
      "I0000 00:00:1726738647.412219  101156 cuda_executor.cc:1015] successful NUMA node read from SysFS had negative value (-1), but there must be at least one NUMA node, so returning NUMA node zero. See more at https://github.com/torvalds/linux/blob/v6.0/Documentation/ABI/testing/sysfs-bus-pci#L344-L355\n",
      "I0000 00:00:1726738647.412302  101156 cuda_executor.cc:1015] successful NUMA node read from SysFS had negative value (-1), but there must be at least one NUMA node, so returning NUMA node zero. See more at https://github.com/torvalds/linux/blob/v6.0/Documentation/ABI/testing/sysfs-bus-pci#L344-L355\n",
      "I0000 00:00:1726738647.485716  101156 cuda_executor.cc:1015] successful NUMA node read from SysFS had negative value (-1), but there must be at least one NUMA node, so returning NUMA node zero. See more at https://github.com/torvalds/linux/blob/v6.0/Documentation/ABI/testing/sysfs-bus-pci#L344-L355\n",
      "I0000 00:00:1726738647.485867  101156 cuda_executor.cc:1015] successful NUMA node read from SysFS had negative value (-1), but there must be at least one NUMA node, so returning NUMA node zero. See more at https://github.com/torvalds/linux/blob/v6.0/Documentation/ABI/testing/sysfs-bus-pci#L344-L355\n",
      "I0000 00:00:1726738647.485960  101156 cuda_executor.cc:1015] successful NUMA node read from SysFS had negative value (-1), but there must be at least one NUMA node, so returning NUMA node zero. See more at https://github.com/torvalds/linux/blob/v6.0/Documentation/ABI/testing/sysfs-bus-pci#L344-L355\n",
      "2024-09-19 02:37:27.486040: I tensorflow/core/common_runtime/gpu/gpu_device.cc:2021] Created device /job:localhost/replica:0/task:0/device:GPU:0 with 2281 MB memory:  -> device: 0, name: NVIDIA GeForce RTX 3050 Laptop GPU, pci bus id: 0000:01:00.0, compute capability: 8.6\n"
     ]
    }
   ],
   "source": [
    "train_data = df_to_dataset(train)\n",
    "val_data = df_to_dataset(val)\n",
    "test_data = df_to_dataset(test)"
   ]
  },
  {
   "cell_type": "code",
   "execution_count": 21,
   "metadata": {},
   "outputs": [],
   "source": [
    "encoder = tf_keras.layers.TextVectorization(max_tokens=25000)\n",
    "encoder.adapt(train_data.map(lambda text, label: text))"
   ]
  },
  {
   "cell_type": "code",
   "execution_count": 22,
   "metadata": {},
   "outputs": [
    {
     "data": {
      "text/plain": [
       "array(['', '[UNK]', 'the', 'to', 'of', 'and', 'a', 'in', 'that', 'is',\n",
       "       'for', 'on', 'it', 'with', 'he', 'was', 'as', 'said', 'by', 's'],\n",
       "      dtype='<U157')"
      ]
     },
     "execution_count": 22,
     "metadata": {},
     "output_type": "execute_result"
    }
   ],
   "source": [
    "vocab = np.array(encoder.get_vocabulary())\n",
    "vocab[:20]"
   ]
  },
  {
   "cell_type": "code",
   "execution_count": 29,
   "metadata": {},
   "outputs": [],
   "source": [
    "model = tf_keras.Sequential([\n",
    "    encoder,\n",
    "    tf_keras.layers.Embedding(\n",
    "        input_dim=len(encoder.get_vocabulary()),\n",
    "        output_dim=4,\n",
    "        mask_zero=True\n",
    "    ),\n",
    "    tf_keras.layers.LSTM(64),\n",
    "    tf_keras.layers.Dense(64, kernel_regularizer=tf_keras.regularizers.l2(0.0001), activation='relu'),\n",
    "    tf_keras.layers.Dropout(0.2),\n",
    "    tf_keras.layers.Dense(64, kernel_regularizer=tf_keras.regularizers.l2(0.0001), activation='relu'),\n",
    "    tf_keras.layers.Dropout(0.2),\n",
    "    tf_keras.layers.Dense(64, kernel_regularizer=tf_keras.regularizers.l2(0.0001), activation='relu'),\n",
    "    tf_keras.layers.Dropout(0.2),\n",
    "    tf_keras.layers.Dense(1, activation='hard_sigmoid')\n",
    "])"
   ]
  },
  {
   "cell_type": "code",
   "execution_count": 32,
   "metadata": {},
   "outputs": [
    {
     "name": "stdout",
     "output_type": "stream",
     "text": [
      "106/106 [==============================] - 5s 32ms/step - loss: 0.7126 - accuracy: 0.4474\n",
      "106/106 [==============================] - 4s 42ms/step - loss: 0.7126 - accuracy: 0.4452\n"
     ]
    },
    {
     "data": {
      "text/plain": [
       "[0.7126129269599915, 0.44520142674446106]"
      ]
     },
     "execution_count": 32,
     "metadata": {},
     "output_type": "execute_result"
    }
   ],
   "source": [
    "model.compile(\n",
    "    optimizer=tf_keras.optimizers.Adafactor(learning_rate=0.0001),\n",
    "    loss=tf_keras.losses.BinaryCrossentropy(),\n",
    "    metrics=['accuracy']\n",
    ")\n",
    "model.evaluate(test_data)\n",
    "model.evaluate(val_data)"
   ]
  },
  {
   "cell_type": "code",
   "execution_count": 35,
   "metadata": {},
   "outputs": [
    {
     "name": "stdout",
     "output_type": "stream",
     "text": [
      "Epoch 1/50\n",
      "1900/1900 [==============================] - 296s 156ms/step - loss: 0.7085 - accuracy: 0.5612 - val_loss: 0.7038 - val_accuracy: 0.5548\n",
      "Epoch 2/50\n",
      "1900/1900 [==============================] - 179s 94ms/step - loss: 0.6998 - accuracy: 0.5592 - val_loss: 0.6962 - val_accuracy: 0.5548\n",
      "Epoch 3/50\n",
      "1900/1900 [==============================] - 145s 77ms/step - loss: 0.6910 - accuracy: 0.5627 - val_loss: 0.6749 - val_accuracy: 0.5548\n",
      "Epoch 4/50\n",
      "1900/1900 [==============================] - 129s 68ms/step - loss: 0.5977 - accuracy: 0.7358 - val_loss: 0.5531 - val_accuracy: 0.7857\n",
      "Epoch 5/50\n",
      "1900/1900 [==============================] - 128s 67ms/step - loss: 0.5295 - accuracy: 0.7835 - val_loss: 0.4888 - val_accuracy: 0.7969\n",
      "Epoch 6/50\n",
      "1900/1900 [==============================] - 122s 64ms/step - loss: 0.5023 - accuracy: 0.8060 - val_loss: 0.4637 - val_accuracy: 0.8199\n",
      "Epoch 7/50\n",
      "1900/1900 [==============================] - 120s 63ms/step - loss: 0.4852 - accuracy: 0.8207 - val_loss: 0.4499 - val_accuracy: 0.8316\n",
      "Epoch 8/50\n",
      "1900/1900 [==============================] - 119s 63ms/step - loss: 0.4737 - accuracy: 0.8301 - val_loss: 0.4350 - val_accuracy: 0.8375\n",
      "Epoch 9/50\n",
      "1900/1900 [==============================] - 117s 61ms/step - loss: 0.4644 - accuracy: 0.8373 - val_loss: 0.4234 - val_accuracy: 0.8426\n",
      "Epoch 10/50\n",
      "1900/1900 [==============================] - 117s 61ms/step - loss: 0.4489 - accuracy: 0.8450 - val_loss: 0.4064 - val_accuracy: 0.8528\n",
      "Epoch 11/50\n",
      "1900/1900 [==============================] - 116s 61ms/step - loss: 0.4454 - accuracy: 0.8516 - val_loss: 0.3959 - val_accuracy: 0.8587\n",
      "Epoch 12/50\n",
      "1900/1900 [==============================] - 113s 60ms/step - loss: 0.4289 - accuracy: 0.8587 - val_loss: 0.3835 - val_accuracy: 0.8640\n",
      "Epoch 13/50\n",
      "1900/1900 [==============================] - 115s 61ms/step - loss: 0.4193 - accuracy: 0.8631 - val_loss: 0.3697 - val_accuracy: 0.8691\n",
      "Epoch 14/50\n",
      "1900/1900 [==============================] - 113s 60ms/step - loss: 0.4112 - accuracy: 0.8687 - val_loss: 0.3575 - val_accuracy: 0.8749\n",
      "Epoch 15/50\n",
      "1900/1900 [==============================] - 113s 59ms/step - loss: 0.4060 - accuracy: 0.8738 - val_loss: 0.3476 - val_accuracy: 0.8783\n",
      "Epoch 16/50\n",
      "1900/1900 [==============================] - 111s 58ms/step - loss: 0.3978 - accuracy: 0.8773 - val_loss: 0.3401 - val_accuracy: 0.8828\n",
      "Epoch 17/50\n",
      "1900/1900 [==============================] - 113s 59ms/step - loss: 0.3933 - accuracy: 0.8811 - val_loss: 0.3339 - val_accuracy: 0.8867\n",
      "Epoch 18/50\n",
      "1900/1900 [==============================] - 112s 59ms/step - loss: 0.3875 - accuracy: 0.8843 - val_loss: 0.3246 - val_accuracy: 0.8854\n",
      "Epoch 19/50\n",
      "1900/1900 [==============================] - 113s 59ms/step - loss: 0.3739 - accuracy: 0.8875 - val_loss: 0.3180 - val_accuracy: 0.8877\n",
      "Epoch 20/50\n",
      "1900/1900 [==============================] - 112s 59ms/step - loss: 0.3703 - accuracy: 0.8912 - val_loss: 0.3226 - val_accuracy: 0.8932\n",
      "Epoch 21/50\n",
      "1900/1900 [==============================] - 111s 59ms/step - loss: 0.3689 - accuracy: 0.8940 - val_loss: 0.3079 - val_accuracy: 0.8953\n",
      "Epoch 22/50\n",
      "1900/1900 [==============================] - 111s 59ms/step - loss: 0.3605 - accuracy: 0.8967 - val_loss: 0.3019 - val_accuracy: 0.8965\n",
      "Epoch 23/50\n",
      "1900/1900 [==============================] - 111s 58ms/step - loss: 0.3578 - accuracy: 0.8994 - val_loss: 0.3011 - val_accuracy: 0.8926\n",
      "Epoch 24/50\n",
      "1900/1900 [==============================] - 111s 58ms/step - loss: 0.3476 - accuracy: 0.9017 - val_loss: 0.2893 - val_accuracy: 0.8997\n",
      "Epoch 25/50\n",
      "1900/1900 [==============================] - 111s 58ms/step - loss: 0.3460 - accuracy: 0.9038 - val_loss: 0.2933 - val_accuracy: 0.9037\n",
      "Epoch 26/50\n",
      "1900/1900 [==============================] - 110s 58ms/step - loss: 0.3416 - accuracy: 0.9066 - val_loss: 0.2889 - val_accuracy: 0.9048\n",
      "Epoch 27/50\n",
      "1900/1900 [==============================] - 110s 58ms/step - loss: 0.3338 - accuracy: 0.9082 - val_loss: 0.2794 - val_accuracy: 0.9014\n",
      "Epoch 28/50\n",
      "1900/1900 [==============================] - 110s 58ms/step - loss: 0.3379 - accuracy: 0.9102 - val_loss: 0.2744 - val_accuracy: 0.9071\n",
      "Epoch 29/50\n",
      "1900/1900 [==============================] - 111s 58ms/step - loss: 0.3254 - accuracy: 0.9109 - val_loss: 0.2723 - val_accuracy: 0.9058\n",
      "Epoch 30/50\n",
      "1900/1900 [==============================] - 109s 57ms/step - loss: 0.3227 - accuracy: 0.9133 - val_loss: 0.2671 - val_accuracy: 0.9100\n",
      "Epoch 31/50\n",
      "1900/1900 [==============================] - 110s 58ms/step - loss: 0.3214 - accuracy: 0.9151 - val_loss: 0.2651 - val_accuracy: 0.9097\n",
      "Epoch 32/50\n",
      "1900/1900 [==============================] - 110s 58ms/step - loss: 0.3189 - accuracy: 0.9160 - val_loss: 0.2727 - val_accuracy: 0.9126\n",
      "Epoch 33/50\n",
      "1900/1900 [==============================] - 109s 58ms/step - loss: 0.3184 - accuracy: 0.9170 - val_loss: 0.2679 - val_accuracy: 0.9154\n",
      "Epoch 34/50\n",
      "1900/1900 [==============================] - 110s 58ms/step - loss: 0.3123 - accuracy: 0.9177 - val_loss: 0.2647 - val_accuracy: 0.9168\n",
      "Epoch 35/50\n",
      "1900/1900 [==============================] - 110s 58ms/step - loss: 0.3058 - accuracy: 0.9196 - val_loss: 0.2666 - val_accuracy: 0.9163\n",
      "Epoch 36/50\n",
      "1900/1900 [==============================] - 110s 58ms/step - loss: 0.3075 - accuracy: 0.9207 - val_loss: 0.2604 - val_accuracy: 0.9182\n",
      "Epoch 37/50\n",
      "1900/1900 [==============================] - 109s 58ms/step - loss: 0.3038 - accuracy: 0.9225 - val_loss: 0.2668 - val_accuracy: 0.9184\n",
      "Epoch 38/50\n",
      "1900/1900 [==============================] - 111s 58ms/step - loss: 0.3019 - accuracy: 0.9237 - val_loss: 0.2529 - val_accuracy: 0.9208\n",
      "Epoch 39/50\n",
      "1900/1900 [==============================] - 109s 57ms/step - loss: 0.2951 - accuracy: 0.9237 - val_loss: 0.2503 - val_accuracy: 0.9224\n",
      "Epoch 40/50\n",
      "1900/1900 [==============================] - 109s 57ms/step - loss: 0.2915 - accuracy: 0.9250 - val_loss: 0.2503 - val_accuracy: 0.9236\n",
      "Epoch 41/50\n",
      "1900/1900 [==============================] - 108s 57ms/step - loss: 0.2926 - accuracy: 0.9252 - val_loss: 0.2469 - val_accuracy: 0.9233\n",
      "Epoch 42/50\n",
      "1900/1900 [==============================] - 110s 58ms/step - loss: 0.2911 - accuracy: 0.9267 - val_loss: 0.2452 - val_accuracy: 0.9248\n",
      "Epoch 43/50\n",
      "1900/1900 [==============================] - 109s 57ms/step - loss: 0.2834 - accuracy: 0.9280 - val_loss: 0.2426 - val_accuracy: 0.9245\n",
      "Epoch 44/50\n",
      "1900/1900 [==============================] - 109s 57ms/step - loss: 0.2781 - accuracy: 0.9285 - val_loss: 0.2431 - val_accuracy: 0.9262\n",
      "Epoch 45/50\n",
      "1900/1900 [==============================] - 109s 57ms/step - loss: 0.2778 - accuracy: 0.9291 - val_loss: 0.2473 - val_accuracy: 0.9211\n",
      "Epoch 46/50\n",
      "1900/1900 [==============================] - 109s 57ms/step - loss: 0.2767 - accuracy: 0.9294 - val_loss: 0.2406 - val_accuracy: 0.9261\n",
      "Epoch 47/50\n",
      "1900/1900 [==============================] - 109s 57ms/step - loss: 0.2712 - accuracy: 0.9312 - val_loss: 0.2367 - val_accuracy: 0.9268\n",
      "Epoch 48/50\n",
      "1900/1900 [==============================] - 109s 58ms/step - loss: 0.2754 - accuracy: 0.9315 - val_loss: 0.2367 - val_accuracy: 0.9286\n",
      "Epoch 49/50\n",
      "1900/1900 [==============================] - 108s 57ms/step - loss: 0.2689 - accuracy: 0.9324 - val_loss: 0.2363 - val_accuracy: 0.9297\n",
      "Epoch 50/50\n",
      "1900/1900 [==============================] - 109s 57ms/step - loss: 0.2717 - accuracy: 0.9327 - val_loss: 0.2396 - val_accuracy: 0.9285\n"
     ]
    }
   ],
   "source": [
    "history = model.fit(train_data, epochs=50, validation_data=val_data, callbacks=[tf_keras.callbacks.EarlyStopping(monitor='val_loss', patience=3)])"
   ]
  },
  {
   "cell_type": "code",
   "execution_count": 36,
   "metadata": {},
   "outputs": [
    {
     "data": {
      "image/png": "[encoded data removed]",
      "text/plain": [
       "<Figure size 640x480 with 1 Axes>"
      ]
     },
     "metadata": {},
     "output_type": "display_data"
    }
   ],
   "source": [
    "plt.plot(history.epoch, history.history[\"accuracy\"])\n",
    "plt.plot(history.epoch, history.history[\"loss\"])\n",
    "plt.title(\"Accuracy against Epoch\")\n",
    "plt.xlabel(\"Epoch\")\n",
    "plt.ylabel(\"Loss, Accuracy\")\n",
    "plt.show()"
   ]
  },
  {
   "cell_type": "code",
   "execution_count": 37,
   "metadata": {},
   "outputs": [
    {
     "name": "stdout",
     "output_type": "stream",
     "text": [
      "106/106 [==============================] - 3s 29ms/step - loss: 0.2365 - accuracy: 0.9325\n"
     ]
    },
    {
     "data": {
      "text/plain": [
       "[0.23648634552955627, 0.9324744343757629]"
      ]
     },
     "execution_count": 37,
     "metadata": {},
     "output_type": "execute_result"
    }
   ],
   "source": [
    "model.evaluate(test_data)"
   ]
  },
  {
   "cell_type": "code",
   "execution_count": 38,
   "metadata": {},
   "outputs": [],
   "source": [
    "tf_keras.models.save_model(\n",
    "    model, \"./model/model_v2.0.keras\", overwrite=True\n",
    ")"
   ]
  }
 ],
 "metadata": {
  "kernelspec": {
   "display_name": "CanITrustIt",
   "language": "python",
   "name": "python3"
  },
  "language_info": {
   "codemirror_mode": {
    "name": "ipython",
    "version": 3
   },
   "file_extension": ".py",
   "mimetype": "text/x-python",
   "name": "python",
   "nbconvert_exporter": "python",
   "pygments_lexer": "ipython3",
   "version": "3.11.10"
  }
 },
 "nbformat": 4,
 "nbformat_minor": 2
}
